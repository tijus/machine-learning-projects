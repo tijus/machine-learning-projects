{
 "cells": [
  {
   "cell_type": "code",
   "execution_count": 8,
   "metadata": {},
   "outputs": [
    {
     "name": "stdout",
     "output_type": "stream",
     "text": [
      "(1500, 784)\n"
     ]
    }
   ],
   "source": [
    "import cv2 as cv\n",
    "import numpy as np\n",
    "import os\n",
    "import glob\n",
    "\n",
    "def readUSPSDataset(folderName,filetype):\n",
    "    pathToImage =os.path.realpath(folderName)\n",
    "    imgPath = os.path.join(pathToImage,'*.'+ filetype)\n",
    "    img = []\n",
    "    fileList = glob.glob(imgPath)\n",
    "    for i in range(len(fileList)):\n",
    "        imagesrc = cv.imread(fileList[i],0)\n",
    "        resizedImage = cv.resize(imagesrc,(28,28))\n",
    "        img.append(resizedImage)\n",
    "    return np.array(img)\n",
    "    \n",
    "    \n",
    "def testImage(folderName, filetype):\n",
    "    imageArray = readUSPSDataset(folderName,filetype)\n",
    "    testImageArray = []\n",
    "    for i in range(len(imageArray)):\n",
    "        testImageArray.append(imageArray[i][:].flatten())\n",
    "        saveImage(np.array(testImageArray))\n",
    "        saveImageLabel(np.array(testImageArray))\n",
    "    return np.array(testImageArray)\n",
    "        \n",
    "def saveImage(testImageArray):\n",
    "    np.savetxt('test_image.txt',testImageArray)\n",
    "\n",
    "def saveImageLabel(testImageArray):\n",
    "    testLabel  = []\n",
    "    label = 10\n",
    "    for j in range(10):\n",
    "        label=label-1\n",
    "        for i in range(int(len(testImageArray)/10)):\n",
    "                       testLabel.append(label)\n",
    "    np.savetxt('test_label.txt',testLabel)\n",
    "        \n",
    "                   \n",
    "\n",
    "\n",
    "\n",
    "\n",
    "# print((imageArray[1][:]).shape)\n",
    "# cv.imshow('image 1', imageArray[2][:])    \n",
    "# cv.waitKey(0)\n",
    "# cv.destroyAllWindows()\n",
    "# img = cv.imread(imgPath,0)\n",
    "# cv.imshow('image',img)\n",
    "# width, height = img.shape\n",
    "# print(width)\n",
    "# print(height)\n",
    "# resizedImage = cv.resize(img, (28, 28)) \n",
    "# width, height = resizedImage.shape\n",
    "# print(width)\n",
    "# print(height)\n",
    "\n",
    "\n",
    "\n",
    "\n"
   ]
  },
  {
   "cell_type": "code",
   "execution_count": 5,
   "metadata": {},
   "outputs": [
    {
     "ename": "TypeError",
     "evalue": "bad argument type for built-in operation",
     "output_type": "error",
     "traceback": [
      "\u001b[1;31m---------------------------------------------------------------------------\u001b[0m",
      "\u001b[1;31mTypeError\u001b[0m                                 Traceback (most recent call last)",
      "\u001b[1;32m<ipython-input-5-4bac7254540a>\u001b[0m in \u001b[0;36m<module>\u001b[1;34m()\u001b[0m\n\u001b[0;32m      3\u001b[0m \u001b[1;33m\u001b[0m\u001b[0m\n\u001b[0;32m      4\u001b[0m \u001b[0mtestImage\u001b[0m \u001b[1;33m=\u001b[0m \u001b[0mnp\u001b[0m\u001b[1;33m.\u001b[0m\u001b[0mloadtxt\u001b[0m\u001b[1;33m(\u001b[0m\u001b[1;34m'test_image.txt'\u001b[0m\u001b[1;33m)\u001b[0m\u001b[1;33m\u001b[0m\u001b[0m\n\u001b[1;32m----> 5\u001b[1;33m \u001b[0mim\u001b[0m \u001b[1;33m=\u001b[0m \u001b[0mcv\u001b[0m\u001b[1;33m.\u001b[0m\u001b[0mimread\u001b[0m\u001b[1;33m(\u001b[0m\u001b[0mtestImage\u001b[0m\u001b[1;33m[\u001b[0m\u001b[1;36m1\u001b[0m\u001b[1;33m]\u001b[0m\u001b[1;33m[\u001b[0m\u001b[1;33m:\u001b[0m\u001b[1;33m]\u001b[0m\u001b[1;33m,\u001b[0m\u001b[1;36m0\u001b[0m\u001b[1;33m)\u001b[0m\u001b[1;33m\u001b[0m\u001b[0m\n\u001b[0m\u001b[0;32m      6\u001b[0m \u001b[0mcv\u001b[0m\u001b[1;33m.\u001b[0m\u001b[0mimshow\u001b[0m\u001b[1;33m(\u001b[0m\u001b[0mim\u001b[0m\u001b[1;33m)\u001b[0m\u001b[1;33m\u001b[0m\u001b[0m\n\u001b[0;32m      7\u001b[0m \u001b[0mcv\u001b[0m\u001b[1;33m.\u001b[0m\u001b[0mwaitKey\u001b[0m\u001b[1;33m(\u001b[0m\u001b[1;36m0\u001b[0m\u001b[1;33m)\u001b[0m\u001b[1;33m\u001b[0m\u001b[0m\n",
      "\u001b[1;31mTypeError\u001b[0m: bad argument type for built-in operation"
     ]
    }
   ],
   "source": []
  },
  {
   "cell_type": "code",
   "execution_count": null,
   "metadata": {
    "collapsed": true
   },
   "outputs": [],
   "source": []
  }
 ],
 "metadata": {
  "kernelspec": {
   "display_name": "Python 3",
   "language": "python",
   "name": "python3"
  },
  "language_info": {
   "codemirror_mode": {
    "name": "ipython",
    "version": 3
   },
   "file_extension": ".py",
   "mimetype": "text/x-python",
   "name": "python",
   "nbconvert_exporter": "python",
   "pygments_lexer": "ipython3",
   "version": "3.5.4"
  }
 },
 "nbformat": 4,
 "nbformat_minor": 2
}
